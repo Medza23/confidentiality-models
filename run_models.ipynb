{
 "cells": [
  {
   "cell_type": "code",
   "execution_count": null,
   "metadata": {},
   "outputs": [
    {
     "name": "stdout",
     "output_type": "stream",
     "text": [
      "📊 Label fordeling i hele datasættet:\n",
      "label\n",
      "1    847\n",
      "0     10\n",
      "Name: count, dtype: int64\n",
      "\n",
      "📊 Label fordeling i træningssæt:\n",
      "label\n",
      "1    677\n",
      "0      8\n",
      "Name: count, dtype: int64\n",
      "\n",
      "🔹 SVM Results:\n",
      "              precision    recall  f1-score   support\n",
      "\n",
      "           0       0.02      1.00      0.03         2\n",
      "           1       1.00      0.29      0.45       170\n",
      "\n",
      "    accuracy                           0.30       172\n",
      "   macro avg       0.51      0.65      0.24       172\n",
      "weighted avg       0.99      0.30      0.45       172\n",
      "\n",
      "Confusion Matrix:\n",
      " [[  2   0]\n",
      " [120  50]]\n",
      "\n",
      "🔸 KNN Results:\n",
      "              precision    recall  f1-score   support\n",
      "\n",
      "           0       0.00      0.00      0.00         2\n",
      "           1       0.99      1.00      0.99       170\n",
      "\n",
      "    accuracy                           0.99       172\n",
      "   macro avg       0.49      0.50      0.50       172\n",
      "weighted avg       0.98      0.99      0.98       172\n",
      "\n",
      "Confusion Matrix:\n",
      " [[  0   2]\n",
      " [  0 170]]\n"
     ]
    },
    {
     "name": "stderr",
     "output_type": "stream",
     "text": [
      "/Users/melisadzanovic/.pyenv/versions/3.9.16/lib/python3.9/site-packages/sklearn/metrics/_classification.py:1565: UndefinedMetricWarning: Precision is ill-defined and being set to 0.0 in labels with no predicted samples. Use `zero_division` parameter to control this behavior.\n",
      "  _warn_prf(average, modifier, f\"{metric.capitalize()} is\", len(result))\n",
      "/Users/melisadzanovic/.pyenv/versions/3.9.16/lib/python3.9/site-packages/sklearn/metrics/_classification.py:1565: UndefinedMetricWarning: Precision is ill-defined and being set to 0.0 in labels with no predicted samples. Use `zero_division` parameter to control this behavior.\n",
      "  _warn_prf(average, modifier, f\"{metric.capitalize()} is\", len(result))\n",
      "/Users/melisadzanovic/.pyenv/versions/3.9.16/lib/python3.9/site-packages/sklearn/metrics/_classification.py:1565: UndefinedMetricWarning: Precision is ill-defined and being set to 0.0 in labels with no predicted samples. Use `zero_division` parameter to control this behavior.\n",
      "  _warn_prf(average, modifier, f\"{metric.capitalize()} is\", len(result))\n"
     ]
    }
   ],
   "source": [
    "import pandas as pd\n",
    "from sklearn.model_selection import train_test_split\n",
    "from sklearn.svm import SVC\n",
    "from sklearn.neighbors import KNeighborsClassifier\n",
    "from sklearn.metrics import classification_report, confusion_matrix\n",
    "\n",
    "\n",
    "df = pd.read_csv(\"confidentiality_dataset.csv\")\n",
    "\n",
    "\n",
    "df.loc[:9, \"label\"] = 0\n",
    "\n",
    "X = df[[\"Appointment\", \"Encounter\", \"Observation\"]]\n",
    "y = df[\"label\"]\n",
    "\n",
    "print(\"📊 Label fordeling i hele datasættet:\")\n",
    "print(y.value_counts())\n",
    "\n",
    "if y.nunique() < 2:\n",
    "    print(\"🚫 Kun én klasse i hele datasættet.\")\n",
    "else:\n",
    "    X_train, X_test, y_train, y_test = train_test_split(\n",
    "        X, y, test_size=0.2, stratify=y, random_state=42\n",
    "    )\n",
    "\n",
    "    print(\"\\n📊 Label fordeling i træningssæt:\")\n",
    "    print(y_train.value_counts())\n",
    "\n",
    "    if y_train.nunique() < 2:\n",
    "        print(\"🚫 Kun én klasse i træningssæt.\")\n",
    "    else:\n",
    "        # SVM\n",
    "        svm_model = SVC(kernel=\"rbf\", C=1, gamma=\"scale\", class_weight=\"balanced\")\n",
    "        svm_model.fit(X_train, y_train)\n",
    "        y_pred_svm = svm_model.predict(X_test)\n",
    "\n",
    "        print(\"\\n🔹 SVM Results:\")\n",
    "        print(classification_report(y_test, y_pred_svm))\n",
    "        print(\"Confusion Matrix:\\n\", confusion_matrix(y_test, y_pred_svm))\n",
    "\n",
    "        # KNN\n",
    "        knn_model = KNeighborsClassifier(n_neighbors=5)\n",
    "        knn_model.fit(X_train, y_train)\n",
    "        y_pred_knn = knn_model.predict(X_test)\n",
    "\n",
    "        print(\"\\n🔸 KNN Results:\")\n",
    "        print(classification_report(y_test, y_pred_knn))\n",
    "        print(\"Confusion Matrix:\\n\", confusion_matrix(y_test, y_pred_knn))\n"
   ]
  }
 ],
 "metadata": {
  "kernelspec": {
   "display_name": "Python (amlfall 3.9.6)",
   "language": "python",
   "name": "amlfall"
  },
  "language_info": {
   "codemirror_mode": {
    "name": "ipython",
    "version": 3
   },
   "file_extension": ".py",
   "mimetype": "text/x-python",
   "name": "python",
   "nbconvert_exporter": "python",
   "pygments_lexer": "ipython3",
   "version": "3.9.16"
  }
 },
 "nbformat": 4,
 "nbformat_minor": 2
}
